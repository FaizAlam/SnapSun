{
 "cells": [
  {
   "cell_type": "markdown",
   "metadata": {
    "colab_type": "text",
    "id": "view-in-github"
   },
   "source": [
    "<a href=\"https://colab.research.google.com/github/chinmayayy/SnapSun/blob/main/Timelapse_project.ipynb\" target=\"_parent\"><img src=\"https://colab.research.google.com/assets/colab-badge.svg\" alt=\"Open In Colab\"/></a>"
   ]
  },
  {
   "cell_type": "markdown",
   "metadata": {
    "id": "dTMXh_K0XroZ"
   },
   "source": [
    "# Python Timelapse Project "
   ]
  },
  {
   "cell_type": "code",
   "execution_count": null,
   "metadata": {
    "id": "7skP8xQsWeGE"
   },
   "outputs": [],
   "source": [
    "#importing required libraries\n",
    "import time\n",
    "import datetime\n",
    "from datetime import date \n",
    "import requests\n",
    "import urllib.request\n",
    "from bs4 import BeautifulSoup\n",
    "from PIL import Image,ImageDraw\n",
    "import glob\n",
    "import os\n",
    "import shutil"
   ]
  },
  {
   "cell_type": "code",
   "execution_count": null,
   "metadata": {
    "id": "wFZ8rHHDWeGK"
   },
   "outputs": [],
   "source": [
    "#function for date validation\n",
    "\n",
    "def date_validation(day,month,year):\n",
    "    isValidDate = True\n",
    "    try:\n",
    "        datetime.datetime(int(year),int(month),int(day)) \n",
    "    except ValueError:\n",
    "        isValidDate = False\n",
    "    if(isValidDate):\n",
    "        return True\n",
    "    else:\n",
    "        return False "
   ]
  },
  {
   "cell_type": "code",
   "execution_count": null,
   "metadata": {
    "id": "3btplBR-Xroi"
   },
   "outputs": [],
   "source": [
    "#fetching present date\n",
    "\n",
    "today = date.today() \n",
    "today=str(today)\n",
    "year,month,day = today.split('-')"
   ]
  },
  {
   "cell_type": "code",
   "execution_count": null,
   "metadata": {
    "id": "tIUdYKhUXroj"
   },
   "outputs": [],
   "source": [
    "#Using requests and beautifulsoup, retrieving images\n",
    "\n",
    "url2 = 'https://sdo.gsfc.nasa.gov/assets/img/browse/'\n",
    "headers = {\n",
    "    'Accept-Encoding': 'gzip, deflate, sdch',\n",
    "    'Accept-Language': 'en-US,en;q=0.8',\n",
    "    'User-Agent': 'Mozilla/5.0 (Macintosh; Intel Mac OS X 10_14_5) AppleWebKit/605.1.15 (KHTML, like Gecko) Version/12.1.1 Safari/605.1.15',\n",
    "    'Accept': 'text/html,application/xhtml+xml,application/xml;q=0.9,image/webp,*/*;q=0.8',\n",
    "    'Referer': 'http://www.google.com/',\n",
    "    'Connection': 'keep-alive',\n",
    "}\n",
    "\n",
    "def fetch_img(i_day,i_month,i_year,i_date):\n",
    "    url = 'https://sdo.gsfc.nasa.gov/assets/img/browse/{}/{}/{}'.format(i_year,i_month,i_day)\n",
    "    print(url)\n",
    "    r = requests.get(url=url, headers=headers)\n",
    "\n",
    "    soup = BeautifulSoup(r.text, 'html.parser')\n",
    "    \n",
    "    i = 0\n",
    "\n",
    "    for img in soup.findAll('a'):\n",
    "        i = i+1\n",
    "        image_temp = img.get('href')\n",
    "        i_url = image_temp.split(\".\")\n",
    "        #Checking the required telescope and image resolution\n",
    "        if i_url[0][-11:]=='2_1024_0171':\n",
    "            image_path = url + \"/\" + i_url[0] + '.jpg'\n",
    "            local_path = \"D:\\{}\\{}.jpg\".format(i_date,i)\n",
    "            with open(local_path,'wb') as f:\n",
    "                f.write(requests.get(image_path).content)\n",
    "            f.close()\n",
    "        else:\n",
    "            pass\n",
    "    print(\"Images dowloaded. Now CREATING GIF..\")\n",
    "    #calling function to create gif\n",
    "    create_gif(i_date)"
   ]
  },
  {
   "cell_type": "code",
   "execution_count": null,
   "metadata": {
    "colab": {
     "base_uri": "https://localhost:8080/"
    },
    "id": "3ndDiESqh1cz",
    "outputId": "d98ba479-377a-469c-8258-7b139a48a082"
   },
   "outputs": [
    {
     "name": "stdout",
     "output_type": "stream",
     "text": [
      "Choose gif speed -\n",
      "1. Slow\n",
      "2. Normal\n",
      "3. Fast 3\n",
      "Creating gif with specified speed...\n"
     ]
    }
   ],
   "source": [
    "#Function to create gif\n",
    "def create_gif(i_date):\n",
    "    speed = 100\n",
    "    x = int(input(\"Choose gif speed -\\n1. Slow\\n2. Normal\\n3. Fast \"))\n",
    "    if x==1:\n",
    "        speed = 200\n",
    "    elif x==2:\n",
    "        speed = 100\n",
    "    elif x==3:\n",
    "        speed = 50\n",
    "    else:\n",
    "        print(\"Wrong input (Normal is the default speed)\")\n",
    "    frame = []\n",
    "    imgs = glob.glob(\"D:\\{}\\*.jpg\".format(i_date))\n",
    "    #print(imgs)\n",
    "    print(\"Creating gif with specified speed...\")\n",
    "    for i in imgs:\n",
    "        new_frame = Image.open(i)\n",
    "        frame.append(new_frame)\n",
    "        frame[0].save('D:\\{}\\{}.gif'.format(i_date,i_date),format=\"GIF\",append_images=frame[1:],save_all=True,duration=speed,loop=0)\n",
    "   # print(\"Timelapse video successfully created.\\nPlease check in \" + i_date + \" folder in D drive.\") \n",
    "#create_gif(20200606)"
   ]
  },
  {
   "cell_type": "code",
   "execution_count": null,
   "metadata": {
    "colab": {
     "base_uri": "https://localhost:8080/"
    },
    "id": "Ef6P8bTRaIKt",
    "outputId": "2613f405-279a-485a-ef90-b443dae2268d"
   },
   "outputs": [
    {
     "name": "stdout",
     "output_type": "stream",
     "text": [
      "\n",
      "  _______ _____ __  __ ______   _               _____   _____ ______ \n",
      " |__   __|_   _|  \\/  |  ____| | |        /\\   |  __ \\ / ____|  ____|\n",
      "    | |    | | | \\  / | |__    | |       /  \\  | |__) | (___ | |__   \n",
      "    | |    | | | |\\/| |  __|   | |      / /\\ \\ |  ___/ \\___ \\|  __|  \n",
      "    | |   _| |_| |  | | |____  | |____ / ____ \\| |     ____) | |____ \n",
      "    |_|  |_____|_|  |_|______| |______/_/    \\_\\_|    |_____/|______| \n",
      "Input a date between 2011-2021 (YYYY-MM-DD): 2015-01-01\n",
      "FETCHING IMAGES....\n",
      "Images dowloaded. Now CREATING GIF..\n",
      "Choose gif speed -\n",
      "1. Slow\n",
      "2. Normal\n",
      "3. Fast 1\n",
      "Creating gif with specified speed...\n"
     ]
    }
   ],
   "source": [
    "print('''\n",
    "  _______ _____ __  __ ______   _               _____   _____ ______ \n",
    " |__   __|_   _|  \\/  |  ____| | |        /\\   |  __ \\ / ____|  ____|\n",
    "    | |    | | | \\  / | |__    | |       /  \\  | |__) | (___ | |__   \n",
    "    | |    | | | |\\/| |  __|   | |      / /\\ \\ |  ___/ \\___ \\|  __|  \n",
    "    | |   _| |_| |  | | |____  | |____ / ____ \\| |     ____) | |____ \n",
    "    |_|  |_____|_|  |_|______| |______/_/    \\_\\_|    |_____/|______| ''')\n",
    "                                                                     \n",
    "date = input('Input a date between 2011-2021 (YYYY-MM-DD): ')\n",
    "#slicing input dates\n",
    "i_year, i_month, i_day = date.split('-')\n",
    "i_date = i_year+i_month+i_day\n",
    "\n",
    "#if input year == current year and month > current month -> Error\n",
    "#if input year == current year and month = current month and input date > current date -> Error\n",
    "#if input year == current year and month = current month and input date < current date -> Fetch images\n",
    "#if input year == current yeear and month < current month -> Fetch images for any valid date\n",
    "#i_year = input year\n",
    "#year = current year\n",
    "\n",
    "if(i_year == year):\n",
    "    if(i_month <= month):\n",
    "        if(i_day <day):\n",
    "            print(\"FETCHING IMAGES....\")\n",
    "            os.mkdir('D:\\{}'.format(i_date))\n",
    "            fetch_img(i_day,i_month,i_year,i_date) \n",
    "        else:\n",
    "            print(\"\\n ERROR: Invalid Date\")\n",
    "    else:\n",
    "        print(\"\\n ERROR: Invalid Date\")\n",
    "elif(i_year < year and i_year > '2011' and date_validation(i_day,i_month,i_year)):\n",
    "    print(\"FETCHING IMAGES....\")\n",
    "    os.mkdir('D:\\{}'.format(i_date))\n",
    "    fetch_img(i_day,i_month,i_year,i_date)\n",
    "else:\n",
    "    print(\"Please input a correct date\")"
   ]
  }
 ],
 "metadata": {
  "colab": {
   "collapsed_sections": [],
   "include_colab_link": true,
   "name": "Timelapse_project.ipynb",
   "provenance": []
  },
  "kernelspec": {
   "display_name": "Python 3",
   "language": "python",
   "name": "python3"
  },
  "language_info": {
   "codemirror_mode": {
    "name": "ipython",
    "version": 3
   },
   "file_extension": ".py",
   "mimetype": "text/x-python",
   "name": "python",
   "nbconvert_exporter": "python",
   "pygments_lexer": "ipython3",
   "version": "3.8.8"
  }
 },
 "nbformat": 4,
 "nbformat_minor": 1
}
